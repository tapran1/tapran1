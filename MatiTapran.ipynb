{
 "cells": [
  {
   "cell_type": "code",
   "execution_count": 35,
   "id": "d7ba6ea1",
   "metadata": {},
   "outputs": [],
   "source": [
    "# importing libraries\n",
    "import geemap\n",
    "import ee\n",
    "Map = geemap.Map()"
   ]
  },
  {
   "cell_type": "code",
   "execution_count": 36,
   "id": "2c77f7b1",
   "metadata": {},
   "outputs": [],
   "source": [
    "#Studyarea\n",
    "SA = ee.FeatureCollection(\"users/abranidrees666/SA\")\n",
    "Map.centerObject(SA,10)\n",
    "Map.addLayer(SA, '','StudyArea')\n"
   ]
  },
  {
   "cell_type": "code",
   "execution_count": 37,
   "id": "29ef71b8",
   "metadata": {},
   "outputs": [],
   "source": [
    "# Load a Landsat 8 image from the collection before disaster\n",
    "image = ee.Image(ee.ImageCollection('LANDSAT/LC08/C01/T1_TOA') \n",
    "                 .filterDate('2018-04-01', '2018-04-30') \n",
    "                 .filterBounds(SA)\n",
    "                 .sort('CLOUD_COVER') \n",
    "                 .first())\n",
    "# for visual parameters\n",
    "vizParams = {\n",
    " 'bands': ['B5', 'B4', 'B2'],\n",
    " 'min': 0,\n",
    " 'max': 0.5,\n",
    " 'gamma': [0.95, 1.1, 1]\n",
    "}\n",
    "#adding layer to map\n",
    "Map.addLayer(image.clip(SA), vizParams, 'Landsat-8 Before')"
   ]
  },
  {
   "cell_type": "code",
   "execution_count": 38,
   "id": "50ca614e",
   "metadata": {},
   "outputs": [],
   "source": [
    "#Compute the Normalized Difference Vegetation Index (NDVI) before disaster\n",
    "nir = image.select('B5')\n",
    "red = image.select('B4')\n",
    "ndvi = nir.subtract(red).divide(nir.add(red)).rename('NDVI_Before')\n",
    "\n",
    "# Display the result.\n",
    "ndviParams = {'min': -1, 'max': 1, 'palette': ['blue', 'white', 'green']}\n",
    "Map.addLayer(ndvi.clip(SA), ndviParams, 'NDVI_Before')"
   ]
  },
  {
   "cell_type": "code",
   "execution_count": 39,
   "id": "2739da58",
   "metadata": {},
   "outputs": [],
   "source": [
    "# Load a Landsat 8 image from the collection after Disaster\n",
    "image1 = ee.Image(ee.ImageCollection('LANDSAT/LC08/C01/T1_TOA') \n",
    "                 .filterDate('2018-08-01', '2018-09-30')\n",
    "                 .filterBounds(SA)\n",
    "                 .sort('CLOUD_COVER') \n",
    "                 .first())\n",
    "# for visual parameters\n",
    "vizParams1 = {\n",
    "  'bands': ['B5', 'B4', 'B2'],\n",
    "  'min': 0,\n",
    "  'max': 0.5,\n",
    "  'gamma': [0.95, 1.1, 1]\n",
    "}\n",
    "Map.addLayer(image1.clip(SA), vizParams1, 'Landsat-8 After')"
   ]
  },
  {
   "cell_type": "code",
   "execution_count": 40,
   "id": "17b6258b",
   "metadata": {},
   "outputs": [
    {
     "data": {
      "application/vnd.jupyter.widget-view+json": {
       "model_id": "ebd5ad9da66d452cb79e875929a44ab3",
       "version_major": 2,
       "version_minor": 0
      },
      "text/plain": [
       "Map(center=[37.97308412649374, 23.846570510822193], controls=(WidgetControl(options=['position', 'transparent_…"
      ]
     },
     "metadata": {},
     "output_type": "display_data"
    }
   ],
   "source": [
    "# Compute the Normalized Difference Vegetation Index (NDVI) after Disaster\n",
    "NIR = image1.select('B5')\n",
    "Red = image1.select('B4')\n",
    "ndvi_1 = NIR.subtract(Red).divide(NIR.add(Red)).rename('NDVI_After')\n",
    "\n",
    "# Display the result.\n",
    "\n",
    "ndviParams1 = {'min': -1, 'max': 1, 'palette': ['blue', 'white', 'green']}\n",
    "Map.addLayer(ndvi_1.clip(SA), ndviParams1, 'NDVI_After')\n",
    "Map"
   ]
  },
  {
   "cell_type": "code",
   "execution_count": 55,
   "id": "bdd687a3",
   "metadata": {},
   "outputs": [],
   "source": [
    "#To export map as html file.\n",
    "# Calling libaraies\n",
    "import os"
   ]
  },
  {
   "cell_type": "code",
   "execution_count": 56,
   "id": "2990643e",
   "metadata": {},
   "outputs": [],
   "source": [
    "# directory location\n",
    "download_dir = os.path.join(os.path.expanduser('-'), 'Documents')\n",
    "if not os.path.exists(download_dir):\n",
    "    os.makedirs(download_dir)\n",
    "html_file = os.path.join(download_dir,'my_map.html')"
   ]
  },
  {
   "cell_type": "code",
   "execution_count": 57,
   "id": "45602efc",
   "metadata": {},
   "outputs": [],
   "source": [
    "# Parametrs\n",
    "Map.to_html(outfile = html_file, title = 'My Map', width = '100%', height ='880px')"
   ]
  }
 ],
 "metadata": {
  "kernelspec": {
   "display_name": "GeeMap",
   "language": "python",
   "name": "geemap"
  },
  "language_info": {
   "codemirror_mode": {
    "name": "ipython",
    "version": 3
   },
   "file_extension": ".py",
   "mimetype": "text/x-python",
   "name": "python",
   "nbconvert_exporter": "python",
   "pygments_lexer": "ipython3",
   "version": "3.8.12"
  }
 },
 "nbformat": 4,
 "nbformat_minor": 5
}
